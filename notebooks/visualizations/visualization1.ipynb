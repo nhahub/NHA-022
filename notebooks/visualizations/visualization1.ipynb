{
 "cells": [
  {
   "cell_type": "code",
   "execution_count": 1,
   "id": "415f3593",
   "metadata": {},
   "outputs": [],
   "source": [
    "import pydeck as pdk\n",
    "import geopandas as gpd\n",
    "import arabic_reshaper\n",
    "from bidi.algorithm import get_display\n",
    "import pandas as pd\n",
    "import numpy as np"
   ]
  },
  {
   "cell_type": "code",
   "execution_count": 2,
   "id": "62a793c8",
   "metadata": {},
   "outputs": [],
   "source": [
    "GEOJSON_PATH = \"../../data/egypt/sample.geojson\""
   ]
  },
  {
   "cell_type": "code",
   "execution_count": 3,
   "id": "62553e44",
   "metadata": {},
   "outputs": [],
   "source": [
    "gdf = gpd.read_file(GEOJSON_PATH)"
   ]
  },
  {
   "cell_type": "code",
   "execution_count": 4,
   "id": "6dcaef04",
   "metadata": {},
   "outputs": [],
   "source": [
    "#extract coordinates \n",
    "def extract_coordinates(gdf):\n",
    "    \"\"\"Extract coordinates based on geometry type\"\"\"\n",
    "    if gdf.geometry.geom_type.isin([\"Point\"]).any():\n",
    "        gdf[\"lon\"] = gdf.geometry.x\n",
    "        gdf[\"lat\"] = gdf.geometry.y\n",
    "    else:\n",
    "        # For LineString or Polygon, use centroid but handle CRS properly\n",
    "        if gdf.crs and gdf.crs.is_geographic:\n",
    "            # Project to a local CRS for better centroid calculation\n",
    "            gdf_projected = gdf.to_crs('EPSG:3857')  # Web Mercator\n",
    "            centroids = gdf_projected.geometry.centroid\n",
    "            centroids_geo = centroids.to_crs(gdf.crs)\n",
    "            gdf[\"lon\"] = centroids_geo.x\n",
    "            gdf[\"lat\"] = centroids_geo.y\n",
    "        else:\n",
    "            gdf[\"lon\"] = gdf.geometry.centroid.x\n",
    "            gdf[\"lat\"] = gdf.geometry.centroid.y\n",
    "    return gdf\n",
    "gdf = extract_coordinates(gdf)\n"
   ]
  },
  {
   "cell_type": "code",
   "execution_count": 5,
   "id": "186ecece",
   "metadata": {},
   "outputs": [],
   "source": [
    "def fix_arabic_text(text):\n",
    "    \"\"\"Properly format Arabic text for display\"\"\"\n",
    "    if pd.isna(text) or text is None or str(text).strip() == '' or str(text) == 'None':\n",
    "        return \"Unknown Street\"\n",
    "    \n",
    "    text_str = str(text).strip()\n",
    "    \n",
    "    \n",
    "    if any('\\u0600' <= char <= '\\u06FF' for char in text_str):\n",
    "        return text_str\n",
    "    \n",
    "    \n",
    "    try:\n",
    "        \n",
    "        if 'Ø' in text_str or 'Ù' in text_str or 'Ù‚' in text_str:\n",
    "            \n",
    "            try:\n",
    "                \n",
    "                fixed_text = text_str.encode('latin1').decode('utf-8')\n",
    "                # Now reshape and reorder for proper display\n",
    "                reshaped = arabic_reshaper.reshape(fixed_text)\n",
    "                return get_display(reshaped)\n",
    "            except:\n",
    "                pass\n",
    "        \n",
    "        \n",
    "        if any('\\u0600' <= char <= '\\u06FF' for char in text_str):\n",
    "            reshaped = arabic_reshaper.reshape(text_str)\n",
    "            return get_display(reshaped)\n",
    "    except:\n",
    "        pass\n",
    "    \n",
    "    return text_str\n",
    "gdf[\"name_fixed\"] = gdf.get('name', 'Unknown Street').apply(fix_arabic_text)"
   ]
  },
  {
   "cell_type": "code",
   "execution_count": 6,
   "id": "33b57602",
   "metadata": {},
   "outputs": [],
   "source": [
    "def get_damage_severity(confidence):\n",
    "    \"\"\"Categorize damage severity based on confidence\"\"\"\n",
    "    if confidence >= 0.8:\n",
    "        return \"High\"\n",
    "    elif confidence >= 0.6:\n",
    "        return \"Medium\"\n",
    "    elif confidence >= 0.4:\n",
    "        return \"Low\"\n",
    "    else:\n",
    "        return \"Uncertain\""
   ]
  },
  {
   "cell_type": "code",
   "execution_count": 7,
   "id": "4e46346c",
   "metadata": {},
   "outputs": [],
   "source": [
    "def get_severity_color(severity):\n",
    "    \"\"\"Get color based on damage severity\"\"\"\n",
    "    colors = {\n",
    "        \"High\": [220, 20, 60, 220],        # Crimson Red\n",
    "        \"Medium\": [255, 140, 0, 200],       # Dark Orange  \n",
    "        \"Low\": [255, 215, 0, 180],          # Gold\n",
    "        \"Uncertain\": [105, 105, 105, 160]   # Dim Gray\n",
    "    }\n",
    "    return colors.get(severity, [105, 105, 105, 160])"
   ]
  },
  {
   "cell_type": "code",
   "execution_count": 8,
   "id": "0a3c3091",
   "metadata": {},
   "outputs": [],
   "source": [
    "gdf['severity'] = gdf['confidence'].apply(get_damage_severity)\n",
    "gdf['damage_type'] = gdf['label'].fillna('unknown')\n",
    "gdf['confidence_pct'] = (gdf['confidence'] * 100).round(1)\n",
    "gdf['color'] = gdf['severity'].apply(get_severity_color)"
   ]
  },
  {
   "cell_type": "code",
   "execution_count": 9,
   "id": "f87a631e",
   "metadata": {},
   "outputs": [],
   "source": [
    "heatmap_layer = pdk.Layer(\n",
    "    \"HeatmapLayer\",\n",
    "    data=gdf,\n",
    "    get_position=[\"lon\", \"lat\"],\n",
    "    get_weight='confidence',  # Weight by confidence\n",
    "    aggregation=\"MEAN\",\n",
    "    radiusPixels=60,  # Smaller heatmap radius\n",
    "    intensity=1.2,    # Lower intensity\n",
    "    colorRange=[\n",
    "        [46, 204, 113, 80],        # Emerald Green (low density) - more transparent\n",
    "        [241, 196, 15, 120],       # Sunflower Yellow\n",
    "        [230, 126, 34, 160],       # Carrot Orange  \n",
    "        [231, 76, 60, 200],        # Alizarin Red (high density)\n",
    "    ],\n",
    "    pickable=False,\n",
    ")"
   ]
  },
  {
   "cell_type": "code",
   "execution_count": 10,
   "id": "2cba41fe",
   "metadata": {},
   "outputs": [],
   "source": [
    "scatter_layer = pdk.Layer(\n",
    "    \"ScatterplotLayer\",\n",
    "    data=gdf,\n",
    "    get_position=[\"lon\", \"lat\"],\n",
    "    get_fill_color='color',\n",
    "    get_radius='confidence * 15 + 8',  # Much smaller size: 8-23 pixels\n",
    "    pickable=True,\n",
    "    stroked=True,\n",
    "    get_line_color=[255, 255, 255, 255],\n",
    "    get_line_width=1,  # Thinner border\n",
    ")"
   ]
  },
  {
   "cell_type": "code",
   "execution_count": 11,
   "id": "96509762",
   "metadata": {},
   "outputs": [],
   "source": [
    "tooltip = {\n",
    "    \"html\": \"\"\"\n",
    "    <div style=\"font-family: 'Segoe UI', Tahoma, Arial, sans-serif; max-width: 320px; line-height: 1.4;\">\n",
    "        <div style=\"background: linear-gradient(135deg, #667eea 0%, #764ba2 100%); color: white; padding: 12px; margin: -10px -10px 10px -10px; border-radius: 8px 8px 0 0;\">\n",
    "            <h3 style=\"margin: 0; font-size: 16px; font-weight: 600;\">🛣️ Pavement Damage Report</h3>\n",
    "        </div>\n",
    "        \n",
    "        <div style=\"padding: 2px 0;\">\n",
    "            <div style=\"margin-bottom: 8px;\">\n",
    "                <span style=\"color: #555; font-size: 12px; font-weight: 500;\">📍 Street:</span><br>\n",
    "                <div style=\"font-size: 14px; font-weight: 600; color: #2c3e50; direction: rtl; text-align: right; font-family: 'Arial', 'Tahoma', sans-serif;\">{name_fixed}</div>\n",
    "            </div>\n",
    "            \n",
    "            <div style=\"display: flex; justify-content: space-between; margin-bottom: 8px;\">\n",
    "                <div style=\"flex: 1; margin-right: 10px;\">\n",
    "                    <span style=\"color: #555; font-size: 12px; font-weight: 500;\">⚠️ Damage Type:</span><br>\n",
    "                    <span style=\"font-size: 13px; font-weight: 600; color: #e74c3c; text-transform: capitalize;\">{damage_type}</span>\n",
    "                </div>\n",
    "                <div style=\"flex: 1;\">\n",
    "                    <span style=\"color: #555; font-size: 12px; font-weight: 500;\">📊 Severity:</span><br>\n",
    "                    <span style=\"font-size: 13px; font-weight: bold; color: {severity_color};\">{severity}</span>\n",
    "                </div>\n",
    "            </div>\n",
    "            \n",
    "            <div style=\"background-color: #f8f9fa; padding: 8px; border-radius: 6px;\">\n",
    "                <div style=\"display: flex; justify-content: space-between; align-items: center;\">\n",
    "                    <span style=\"color: #555; font-size: 12px;\">🎯 Confidence:</span>\n",
    "                    <div style=\"display: flex; align-items: center;\">\n",
    "                        <div style=\"width: 80px; height: 6px; background-color: #e0e0e0; border-radius: 3px; margin-right: 8px;\">\n",
    "                            <div style=\"width: {confidence}%; height: 100%; background: linear-gradient(90deg, #ff6b6b, #4ecdc4, #45b7d1); border-radius: 3px;\"></div>\n",
    "                        </div>\n",
    "                        <span style=\"font-weight: bold; color: #2c3e50; font-size: 13px;\">{confidence_pct}%</span>\n",
    "                    </div>\n",
    "                </div>\n",
    "            </div>\n",
    "        </div>\n",
    "    </div>\n",
    "    \"\"\",\n",
    "    \"style\": {\n",
    "        \"backgroundColor\": \"white\",\n",
    "        \"color\": \"#333\",\n",
    "        \"border\": \"1px solid #ddd\",\n",
    "        \"borderRadius\": \"10px\",\n",
    "        \"padding\": \"10px\",\n",
    "        \"fontSize\": \"12px\",\n",
    "        \"boxShadow\": \"0 8px 25px rgba(0,0,0,0.15)\",\n",
    "        \"maxWidth\": \"320px\"\n",
    "    }\n",
    "}\n"
   ]
  },
  {
   "cell_type": "code",
   "execution_count": 12,
   "id": "8b342c9d",
   "metadata": {},
   "outputs": [],
   "source": [
    "severity_colors = {\n",
    "    \"High\": \"#DC143C\",      # Crimson\n",
    "    \"Medium\": \"#FF8C00\",    # Dark Orange\n",
    "    \"Low\": \"#83C763\",       # Gold  \n",
    "    \"Uncertain\": \"#1BDA14\"  # Dim Gray\n",
    "}\n",
    "gdf['severity_color'] = gdf['severity'].map(severity_colors)"
   ]
  },
  {
   "cell_type": "code",
   "execution_count": 13,
   "id": "fdb1352e",
   "metadata": {},
   "outputs": [],
   "source": [
    "view_state = pdk.ViewState(\n",
    "    latitude=gdf[\"lat\"].mean(),\n",
    "    longitude=gdf[\"lon\"].mean(),\n",
    "    zoom=12,\n",
    "    pitch=45,\n",
    "    bearing=0,\n",
    ")"
   ]
  },
  {
   "cell_type": "code",
   "execution_count": 14,
   "id": "624bfd58",
   "metadata": {},
   "outputs": [],
   "source": [
    "r = pdk.Deck(\n",
    "    layers=[heatmap_layer, scatter_layer],\n",
    "    initial_view_state=view_state,\n",
    "    tooltip=tooltip,\n",
    "    map_style='https://basemaps.cartocdn.com/gl/positron-gl-style/style.json',\n",
    ")"
   ]
  },
  {
   "cell_type": "code",
   "execution_count": 15,
   "id": "b1a4a635",
   "metadata": {},
   "outputs": [],
   "source": [
    "r = pdk.Deck(\n",
    "    layers=[heatmap_layer, scatter_layer],\n",
    "    initial_view_state=view_state,\n",
    "    tooltip=tooltip,\n",
    "    map_style='https://basemaps.cartocdn.com/gl/positron-gl-style/style.json',  # Free Carto basemap, no token required\n",
    ")"
   ]
  },
  {
   "cell_type": "code",
   "execution_count": 16,
   "id": "2a990ec1",
   "metadata": {},
   "outputs": [
    {
     "name": "stdout",
     "output_type": "stream",
     "text": [
      " pavement visualization saved to: test.html\n"
     ]
    }
   ],
   "source": [
    "r.to_html('test.html', notebook_display=False)\n",
    "print(f\" pavement visualization saved to: test.html\")"
   ]
  }
 ],
 "metadata": {
  "kernelspec": {
   "display_name": "Python 3",
   "language": "python",
   "name": "python3"
  },
  "language_info": {
   "codemirror_mode": {
    "name": "ipython",
    "version": 3
   },
   "file_extension": ".py",
   "mimetype": "text/x-python",
   "name": "python",
   "nbconvert_exporter": "python",
   "pygments_lexer": "ipython3",
   "version": "3.11.7"
  }
 },
 "nbformat": 4,
 "nbformat_minor": 5
}
