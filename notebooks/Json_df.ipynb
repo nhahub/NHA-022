{
 "cells": [
  {
   "cell_type": "code",
   "execution_count": 1,
   "id": "5df4d0ce-52a0-4113-bd7b-ad5252dcc1e3",
   "metadata": {},
   "outputs": [],
   "source": [
    "from pyspark.sql import SparkSession"
   ]
  },
  {
   "cell_type": "code",
   "execution_count": 2,
   "id": "1cab83cd-4788-4c71-9f3d-840750d55f71",
   "metadata": {},
   "outputs": [],
   "source": [
    "spark = SparkSession.builder \\\n",
    "    .appName(\"PavementEye Stream\") \\\n",
    "    .getOrCreate()"
   ]
  },
  {
   "cell_type": "code",
   "execution_count": 3,
   "id": "e6063b08-f117-4069-84ee-4f53710b7505",
   "metadata": {},
   "outputs": [],
   "source": [
    "# kafka parameters\n",
    "kafka_bootstrap_servers = 'kafka:9092'  # kafka:9092 as we are inside the docker network\n",
    "kafka_topic = 'test' # Can be changed later"
   ]
  },
  {
   "cell_type": "code",
   "execution_count": 4,
   "id": "da1e4acd-fc50-45e2-a999-01cb9d573fda",
   "metadata": {},
   "outputs": [],
   "source": [
    "# read data from Kafka\n",
    "kafka_stream_df = spark.readStream \\\n",
    "    .format(\"kafka\") \\\n",
    "    .option(\"kafka.bootstrap.servers\", kafka_bootstrap_servers) \\\n",
    "    .option(\"subscribe\", kafka_topic) \\\n",
    "    .load()"
   ]
  },
  {
   "cell_type": "code",
   "execution_count": 5,
   "id": "2355d6a8-89de-421e-998f-48169c3c9236",
   "metadata": {},
   "outputs": [],
   "source": [
    "# To be able to see the right parsed value of the message\n",
    "parse_kafka_stream = kafka_stream_df.selectExpr('CAST(value as STRING) as json_value')"
   ]
  },
  {
   "cell_type": "code",
   "execution_count": null,
   "id": "0e725622-c076-4fca-8a2f-6fd72e6848c1",
   "metadata": {},
   "outputs": [],
   "source": []
  },
  {
   "cell_type": "code",
   "execution_count": null,
   "id": "17838f6a-121a-499a-bdb8-5e7db3995f5e",
   "metadata": {},
   "outputs": [],
   "source": []
  },
  {
   "cell_type": "code",
   "execution_count": null,
   "id": "8c3b37ba-3d87-45e1-a563-3ba247df8337",
   "metadata": {},
   "outputs": [],
   "source": [
    "parse_kafka_stream.writeStream\\\n",
    "    .outputMode(\"append\")\\\n",
    "    .format(\"console\")\\\n",
    "    .start()\\\n",
    "    .awaitTermination()\n",
    "\n",
    "# See value at the docker logs\n",
    "# When request is made you can see the value"
   ]
  }
 ],
 "metadata": {
  "kernelspec": {
   "display_name": "Python 3 (ipykernel)",
   "language": "python",
   "name": "python3"
  },
  "language_info": {
   "codemirror_mode": {
    "name": "ipython",
    "version": 3
   },
   "file_extension": ".py",
   "mimetype": "text/x-python",
   "name": "python",
   "nbconvert_exporter": "python",
   "pygments_lexer": "ipython3",
   "version": "3.11.6"
  }
 },
 "nbformat": 4,
 "nbformat_minor": 5
}
