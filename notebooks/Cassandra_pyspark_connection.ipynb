{
 "cells": [
  {
   "cell_type": "markdown",
   "id": "20689c59-73b6-462c-8879-d77b7d5448b9",
   "metadata": {},
   "source": [
    "# This is just to test connection with cassandra\n",
    "# This makes our work easier when we migrate to streaming"
   ]
  },
  {
   "cell_type": "code",
   "execution_count": 1,
   "id": "f6056794-beb2-4114-8aa6-dd2ffe990fef",
   "metadata": {},
   "outputs": [],
   "source": [
    "from pyspark.sql import SparkSession\n",
    "\n",
    "spark = (\n",
    "    SparkSession.builder\n",
    "    .appName(\"PySpark-Cassandra\")\n",
    "    .config(\"spark.cassandra.connection.host\", \"cassandra\")   # service name from docker-compose\n",
    "    .config(\"spark.cassandra.connection.port\", \"9042\") # Port of the cassandra container\n",
    "    .getOrCreate()\n",
    ")"
   ]
  },
  {
   "cell_type": "code",
   "execution_count": 2,
   "id": "9f766cb9-b8d8-42db-bb22-f2d48c953bdc",
   "metadata": {},
   "outputs": [
    {
     "name": "stdout",
     "output_type": "stream",
     "text": [
      "+----------+--------------------+--------------------+----------+-------------+------------------+-------+-------+-----+-----+----+-----+\n",
      "|road_index|           timestamp|                  id|confidence|        image|             label|    lat|    lon|   x1|   x2|  y1|   y2|\n",
      "+----------+--------------------+--------------------+----------+-------------+------------------+-------+-------+-----+-----+----+-----+\n",
      "|         1|2025-09-13 07:10:...|a92a60c6-2ca5-4d2...|      0.89|image_001.png|longitudinal_crack|12.9716|77.5946|125.4|200.6|98.2|130.8|\n",
      "+----------+--------------------+--------------------+----------+-------------+------------------+-------+-------+-----+-----+----+-----+\n",
      "\n"
     ]
    }
   ],
   "source": [
    "# test reading from table (batch mode)\n",
    "df = (\n",
    "    spark.read\n",
    "    .format(\"org.apache.spark.sql.cassandra\")\n",
    "    .options(table=\"crack\", keyspace=\"pavementeye\")\n",
    "    .load()\n",
    ")\n",
    "\n",
    "df.show(10)"
   ]
  },
  {
   "cell_type": "code",
   "execution_count": null,
   "id": "42f673d1-257b-4db4-af4a-f1dd65671d21",
   "metadata": {},
   "outputs": [],
   "source": []
  }
 ],
 "metadata": {
  "kernelspec": {
   "display_name": "Python 3 (ipykernel)",
   "language": "python",
   "name": "python3"
  },
  "language_info": {
   "codemirror_mode": {
    "name": "ipython",
    "version": 3
   },
   "file_extension": ".py",
   "mimetype": "text/x-python",
   "name": "python",
   "nbconvert_exporter": "python",
   "pygments_lexer": "ipython3",
   "version": "3.11.6"
  }
 },
 "nbformat": 4,
 "nbformat_minor": 5
}
