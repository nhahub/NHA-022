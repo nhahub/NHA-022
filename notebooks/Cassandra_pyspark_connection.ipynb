{
 "cells": [
  {
   "cell_type": "markdown",
   "id": "20689c59-73b6-462c-8879-d77b7d5448b9",
   "metadata": {},
   "source": [
    "# This is just to test connection with cassandra\n",
    "# This makes our work easier when we migrate to streaming"
   ]
  },
  {
   "cell_type": "code",
   "execution_count": 1,
   "id": "f6056794-beb2-4114-8aa6-dd2ffe990fef",
   "metadata": {},
   "outputs": [
    {
     "name": "stdout",
     "output_type": "stream",
     "text": [
      "3.5.0\n"
     ]
    }
   ],
   "source": [
    "from pyspark.sql import SparkSession\n",
    "\n",
    "spark = (\n",
    "    SparkSession.builder\n",
    "    .appName(\"PySpark-Cassandra\")\n",
    "    .config(\"spark.cassandra.connection.host\", \"cassandra\")   # service name from docker-compose\n",
    "    .config(\"spark.cassandra.connection.port\", \"9042\") # Port of the cassandra container\n",
    "    .getOrCreate()\n",
    ")"
   ]
  },
  {
   "cell_type": "code",
   "execution_count": 2,
   "id": "9f766cb9-b8d8-42db-bb22-f2d48c953bdc",
   "metadata": {},
   "outputs": [
    {
     "name": "stdout",
     "output_type": "stream",
     "text": [
      "+----------+--------------------+--------------------+----------+-------------+-----+--------+---------+\n",
      "|road_index|           timestamp|                  id|confidence|        image|label|     lat|      lon|\n",
      "+----------+--------------------+--------------------+----------+-------------+-----+--------+---------+\n",
      "|       101|2025-09-10 10:01:...|cf761eab-0c55-430...|      0.92|image_001.jpg|crack|4.835659|45.764043|\n",
      "+----------+--------------------+--------------------+----------+-------------+-----+--------+---------+\n",
      "\n"
     ]
    }
   ],
   "source": [
    "# test reading from table (batch mode)\n",
    "df = (\n",
    "    spark.read\n",
    "    .format(\"org.apache.spark.sql.cassandra\")\n",
    "    .options(table=\"crack\", keyspace=\"pavementeye\")\n",
    "    .load()\n",
    ")\n",
    "\n",
    "df.show(10)"
   ]
  }
 ],
 "metadata": {
  "kernelspec": {
   "display_name": "Python 3 (ipykernel)",
   "language": "python",
   "name": "python3"
  },
  "language_info": {
   "codemirror_mode": {
    "name": "ipython",
    "version": 3
   },
   "file_extension": ".py",
   "mimetype": "text/x-python",
   "name": "python",
   "nbconvert_exporter": "python",
   "pygments_lexer": "ipython3",
   "version": "3.11.6"
  }
 },
 "nbformat": 4,
 "nbformat_minor": 5
}
