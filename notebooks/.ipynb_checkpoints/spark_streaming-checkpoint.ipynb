{
 "cells": [
  {
   "cell_type": "code",
   "execution_count": 40,
   "id": "5df4d0ce-52a0-4113-bd7b-ad5252dcc1e3",
   "metadata": {},
   "outputs": [],
   "source": [
    "from pyspark.sql import SparkSession\n",
    "from pyspark.sql.functions import col, from_json, explode, round as spark_round\n",
    "from pyspark.sql.types import StructType, StructField, StringType, DoubleType, ArrayType\n",
    "from pyspark.sql import functions as F\n",
    "from pyspark.sql.types import TimestampType"
   ]
  },
  {
   "cell_type": "code",
   "execution_count": 15,
   "id": "1cab83cd-4788-4c71-9f3d-840750d55f71",
   "metadata": {},
   "outputs": [],
   "source": [
    "spark = SparkSession.builder \\\n",
    "    .appName(\"PavementEye Stream\") \\\n",
    "    .getOrCreate()"
   ]
  },
  {
   "cell_type": "code",
   "execution_count": 16,
   "id": "e6063b08-f117-4069-84ee-4f53710b7505",
   "metadata": {},
   "outputs": [],
   "source": [
    "# kafka parameters\n",
    "kafka_bootstrap_servers = 'kafka:9092'  # kafka:9092 as we are inside the docker network\n",
    "kafka_topic = 'test' # Can be changed later"
   ]
  },
  {
   "cell_type": "code",
   "execution_count": 17,
   "id": "da1e4acd-fc50-45e2-a999-01cb9d573fda",
   "metadata": {},
   "outputs": [],
   "source": [
    "# read data from Kafka\n",
    "kafka_stream_df = spark.readStream \\\n",
    "    .format(\"kafka\") \\\n",
    "    .option(\"kafka.bootstrap.servers\", kafka_bootstrap_servers) \\\n",
    "    .option(\"subscribe\", kafka_topic) \\\n",
    "    .load()"
   ]
  },
  {
   "cell_type": "code",
   "execution_count": 18,
   "id": "2355d6a8-89de-421e-998f-48169c3c9236",
   "metadata": {},
   "outputs": [],
   "source": [
    "# To be able to see the right parsed value of the message\n",
    "parse_kafka_stream = kafka_stream_df.selectExpr('CAST(value as STRING) as json_value')"
   ]
  },
  {
   "cell_type": "code",
   "execution_count": 22,
   "id": "0e725622-c076-4fca-8a2f-6fd72e6848c1",
   "metadata": {},
   "outputs": [],
   "source": [
    "# Define schema for the incoming JSON messages\n",
    "schema = StructType([\n",
    "    StructField(\"lon\", DoubleType()),\n",
    "    StructField(\"lat\", DoubleType()),\n",
    "    StructField(\"time\", StringType()),\n",
    "    StructField(\"labels\", ArrayType(\n",
    "        StructType([\n",
    "            StructField(\"label\", StringType()),\n",
    "            StructField(\"confidence\", DoubleType()),\n",
    "            StructField(\"x1\", DoubleType()),\n",
    "            StructField(\"x2\", DoubleType()),\n",
    "            StructField(\"y1\", DoubleType()),\n",
    "            StructField(\"y2\", DoubleType())\n",
    "        ])\n",
    "    ))\n",
    "])"
   ]
  },
  {
   "cell_type": "code",
   "execution_count": 23,
   "id": "b53a86f4-1791-4165-9fdc-a6fa76e7486b",
   "metadata": {},
   "outputs": [],
   "source": [
    "#Parse JSON string into a structured DataFrame\n",
    "json_df = parse_kafka_stream.select(from_json(col(\"json_value\"), schema).alias(\"data\"))"
   ]
  },
  {
   "cell_type": "code",
   "execution_count": 24,
   "id": "0520870d-e9c8-431a-b728-3881850e1d28",
   "metadata": {},
   "outputs": [],
   "source": [
    "#Explode the labels array so each detected object becomes one row\n",
    "exploded_df = json_df.select(\n",
    "    col(\"data.lon\"),\n",
    "    col(\"data.lat\"),\n",
    "    col(\"data.time\"),\n",
    "    explode(col(\"data.labels\")).alias(\"label_struct\")\n",
    ").select(\n",
    "    col(\"lon\"),\n",
    "    col(\"lat\"),\n",
    "    col(\"time\"),\n",
    "    col(\"label_struct.label\").alias(\"label\"),\n",
    "    col(\"label_struct.confidence\").alias(\"confidence\"),\n",
    "    col(\"label_struct.x1\").alias(\"x1\"),\n",
    "    col(\"label_struct.x2\").alias(\"x2\"),\n",
    "    col(\"label_struct.y1\").alias(\"y1\"),\n",
    "    col(\"label_struct.y2\").alias(\"y2\")\n",
    ")"
   ]
  },
  {
   "cell_type": "code",
   "execution_count": 31,
   "id": "17838f6a-121a-499a-bdb8-5e7db3995f5e",
   "metadata": {},
   "outputs": [],
   "source": [
    "#Remove empty values\n",
    "df_no_nulls = exploded_df.na.drop()"
   ]
  },
  {
   "cell_type": "code",
   "execution_count": null,
   "id": "f1576fef-0171-4cc8-bba6-c3dba09f3a20",
   "metadata": {},
   "outputs": [],
   "source": [
    "# Convert 'time' column from string to timestamp\n",
    "df_no_nulls = df_no_nulls.withColumn(\"time\", F.col(\"time\").cast(TimestampType()))\n",
    "\n",
    "# Now deduplicate only on the last 5 minutes\n",
    "cleaned_df = df_no_nulls \\\n",
    "    .withWatermark(\"time\", \"5 minutes\") \\\n",
    "    .dropDuplicates([\"label\", \"x1\", \"y1\", \"x2\", \"y2\", \"lon\", \"lat\"])"
   ]
  },
  {
   "cell_type": "code",
   "execution_count": 34,
   "id": "9da6b271-6926-45dd-baf2-f8b7292f32ce",
   "metadata": {},
   "outputs": [],
   "source": [
    "#Verify the correctness of the coordinates\n",
    "df_valid_coords = cleaned_df.filter(\n",
    "    (col(\"x1\") < col(\"x2\")) &\n",
    "    (col(\"y1\") < col(\"y2\")) &\n",
    "    (col(\"lon\") >= -180) & (col(\"lon\") <= 180) &  # التأكد من حدود longitude\n",
    "    (col(\"lat\") >= -90) & (col(\"lat\") <= 90)      # التأكد من حدود latitude\n",
    ")"
   ]
  },
  {
   "cell_type": "code",
   "execution_count": null,
   "id": "8c3b37ba-3d87-45e1-a563-3ba247df8337",
   "metadata": {},
   "outputs": [],
   "source": [
    "parse_kafka_stream.writeStream\\\n",
    "    .outputMode(\"append\")\\\n",
    "    .format(\"console\")\\\n",
    "    .start()\\\n",
    "    .awaitTermination()\n",
    "\n",
    "# See value at the docker logs\n",
    "# When request is made you can see the value"
   ]
  },
  {
   "cell_type": "code",
   "execution_count": null,
   "id": "2fcf93ba-890b-40ed-a38b-a4ad78ae8be8",
   "metadata": {},
   "outputs": [],
   "source": [
    "parse_kafka_stream.show(5)"
   ]
  },
  {
   "cell_type": "code",
   "execution_count": null,
   "id": "07321bcf-5225-4b82-9c59-cdaf01637d2a",
   "metadata": {},
   "outputs": [],
   "source": []
  }
 ],
 "metadata": {
  "kernelspec": {
   "display_name": "Python 3 (ipykernel)",
   "language": "python",
   "name": "python3"
  },
  "language_info": {
   "codemirror_mode": {
    "name": "ipython",
    "version": 3
   },
   "file_extension": ".py",
   "mimetype": "text/x-python",
   "name": "python",
   "nbconvert_exporter": "python",
   "pygments_lexer": "ipython3",
   "version": "3.11.6"
  }
 },
 "nbformat": 4,
 "nbformat_minor": 5
}
