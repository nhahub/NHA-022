{
 "cells": [
  {
   "cell_type": "code",
   "execution_count": 1,
   "id": "5df4d0ce-52a0-4113-bd7b-ad5252dcc1e3",
   "metadata": {},
   "outputs": [],
   "source": [
    "from pyspark.sql import SparkSession\n",
    "from pyspark.sql.functions import *\n",
    "from pyspark.sql.types import *\n",
    "from pyspark.sql import functions as F\n",
    "import geopandas as gpd"
   ]
  },
  {
   "cell_type": "code",
   "execution_count": 2,
   "id": "1cab83cd-4788-4c71-9f3d-840750d55f71",
   "metadata": {},
   "outputs": [],
   "source": [
    "spark = SparkSession.builder \\\n",
    "    .appName(\"PavementEye Stream\") \\\n",
    "    .config(\"spark.cassandra.connection.host\", \"cassandra\")\\\n",
    "    .config(\"spark.cassandra.connection.port\", \"9042\")\\\n",
    "    .getOrCreate()"
   ]
  },
  {
   "cell_type": "code",
   "execution_count": 3,
   "id": "e6063b08-f117-4069-84ee-4f53710b7505",
   "metadata": {},
   "outputs": [],
   "source": [
    "# kafka parameters\n",
    "kafka_bootstrap_servers = 'kafka:9092'  # kafka:9092 as we are inside the docker network\n",
    "kafka_topic = 'test' # Can be changed later"
   ]
  },
  {
   "cell_type": "code",
   "execution_count": 4,
   "id": "da1e4acd-fc50-45e2-a999-01cb9d573fda",
   "metadata": {},
   "outputs": [],
   "source": [
    "# read data from Kafka\n",
    "kafka_stream_df = spark.readStream \\\n",
    "    .format(\"kafka\") \\\n",
    "    .option(\"kafka.bootstrap.servers\", kafka_bootstrap_servers) \\\n",
    "    .option(\"subscribe\", kafka_topic) \\\n",
    "    .load()"
   ]
  },
  {
   "cell_type": "code",
   "execution_count": 5,
   "id": "2355d6a8-89de-421e-998f-48169c3c9236",
   "metadata": {},
   "outputs": [],
   "source": [
    "# To be able to see the right parsed value of the message\n",
    "parse_kafka_stream = kafka_stream_df.selectExpr('CAST(value as STRING) as json_value')"
   ]
  },
  {
   "cell_type": "code",
   "execution_count": 6,
   "id": "0e725622-c076-4fca-8a2f-6fd72e6848c1",
   "metadata": {},
   "outputs": [],
   "source": [
    "# Define schema for the incoming JSON messages\n",
    "schema = StructType([\n",
    "    StructField(\"lon\", DoubleType()),\n",
    "    StructField(\"lat\", DoubleType()),\n",
    "    StructField(\"time\", StringType()),\n",
    "    StructField(\"ppm\", DoubleType()),\n",
    "    StructField(\"image\", StringType()),\n",
    "    StructField(\"labels\", ArrayType(\n",
    "        StructType([\n",
    "            StructField(\"label\", StringType()),\n",
    "            StructField(\"confidence\", DoubleType()),\n",
    "            StructField(\"x1\", DoubleType()),\n",
    "            StructField(\"x2\", DoubleType()),\n",
    "            StructField(\"y1\", DoubleType()),\n",
    "            StructField(\"y2\", DoubleType())\n",
    "        ])\n",
    "    ))\n",
    "])"
   ]
  },
  {
   "cell_type": "code",
   "execution_count": 7,
   "id": "b53a86f4-1791-4165-9fdc-a6fa76e7486b",
   "metadata": {},
   "outputs": [],
   "source": [
    "#Parse JSON string into a structured DataFrame\n",
    "json_df = parse_kafka_stream.select(from_json(col(\"json_value\"), schema).alias(\"data\"))"
   ]
  },
  {
   "cell_type": "code",
   "execution_count": 8,
   "id": "0520870d-e9c8-431a-b728-3881850e1d28",
   "metadata": {},
   "outputs": [],
   "source": [
    "#Explode the labels array so each detected object becomes one row\n",
    "exploded_df = json_df.select(\n",
    "    col(\"data.lon\"),\n",
    "    col(\"data.lat\"),\n",
    "    col(\"data.time\"),\n",
    "    col(\"data.ppm\"),\n",
    "    col(\"data.image\"),\n",
    "    explode(col(\"data.labels\")).alias(\"label_struct\")\n",
    ").select(\n",
    "    col(\"lon\"),\n",
    "    col(\"lat\"),\n",
    "    col(\"image\"),\n",
    "    col(\"time\").alias(\"timestamp\"),\n",
    "    col(\"ppm\"),\n",
    "    col(\"label_struct.label\").alias(\"label\"),\n",
    "    col(\"label_struct.confidence\").alias(\"confidence\"),\n",
    "    col(\"label_struct.x1\").alias(\"x1\"),\n",
    "    col(\"label_struct.x2\").alias(\"x2\"),\n",
    "    col(\"label_struct.y1\").alias(\"y1\"),\n",
    "    col(\"label_struct.y2\").alias(\"y2\")\n",
    ")"
   ]
  },
  {
   "cell_type": "code",
   "execution_count": 9,
   "id": "17838f6a-121a-499a-bdb8-5e7db3995f5e",
   "metadata": {},
   "outputs": [],
   "source": [
    "#Remove empty values\n",
    "df_no_nulls = exploded_df.na.drop()"
   ]
  },
  {
   "cell_type": "code",
   "execution_count": 10,
   "id": "f1576fef-0171-4cc8-bba6-c3dba09f3a20",
   "metadata": {},
   "outputs": [],
   "source": [
    "# Convert 'time' column from string to timestamp\n",
    "df_no_nulls = df_no_nulls.withColumn(\"timestamp\", F.col(\"timestamp\").cast(TimestampType()))\n",
    "\n",
    "# Now deduplicate only on the last 1 minutes\n",
    "cleaned_df = df_no_nulls \n",
    "#     .withWatermark(\"timestamp\", \"1 minutes\") \\\n",
    "#     .dropDuplicates([\"label\", \"x1\", \"y1\", \"x2\", \"y2\", \"lon\", \"lat\"])"
   ]
  },
  {
   "cell_type": "code",
   "execution_count": 11,
   "id": "9da6b271-6926-45dd-baf2-f8b7292f32ce",
   "metadata": {},
   "outputs": [],
   "source": [
    "#Verify the correctness of the coordinates\n",
    "df_valid_coords = cleaned_df.filter(\n",
    "    (col(\"x1\") < col(\"x2\")) &\n",
    "    (col(\"y1\") < col(\"y2\")) &\n",
    "    (col(\"lon\") >= -180) & (col(\"lon\") <= 180) &  # التأكد من حدود longitude\n",
    "    (col(\"lat\") >= -90) & (col(\"lat\") <= 90)      # التأكد من حدود latitude\n",
    ")"
   ]
  },
  {
   "cell_type": "code",
   "execution_count": 12,
   "id": "873cc61e-bab6-42cb-ba71-16081bf85ea6",
   "metadata": {},
   "outputs": [],
   "source": [
    "# inster the id (identifier for the crack)\n",
    "df_valid_coords = df_valid_coords.withColumn(\"id\", expr(\"uuid()\"))"
   ]
  },
  {
   "cell_type": "markdown",
   "id": "045af9c1-14d7-4d84-8497-5aa950e2cf65",
   "metadata": {},
   "source": [
    "# Join with OSM\n",
    "This enables us to get road, government, district"
   ]
  },
  {
   "cell_type": "code",
   "execution_count": 13,
   "id": "4508efd1-fe65-4b59-9b2c-36caea8a9163",
   "metadata": {},
   "outputs": [],
   "source": [
    "# load roads dataset\n",
    "roads_df = gpd.read_file('../data/egypt/geo.geojson').to_crs(epsg=4326)\n",
    "roads_df = roads_df.drop(['index'], axis=1)\n",
    "roads_broadcast = spark.sparkContext.broadcast(roads_df)"
   ]
  },
  {
   "cell_type": "code",
   "execution_count": 14,
   "id": "72f0d677-a30b-41be-a1e3-53e19a570607",
   "metadata": {},
   "outputs": [],
   "source": [
    "def join_roads(lon, lat):\n",
    "    # Import necessary libraries inside the UDF for execution on workers\n",
    "    import geopandas as gpd\n",
    "    from shapely.geometry import Point\n",
    "    \n",
    "    # Access the broadcasted roads data\n",
    "    roads_df_local = roads_broadcast.value\n",
    "\n",
    "    location = Point(lon, lat)\n",
    "    stream_geo_df = gpd.GeoDataFrame(geometry=[location], crs=\"EPSG:4326\")\n",
    "\n",
    "    # Perform the nearest-neighbor spatial join\n",
    "    joined_data = gpd.sjoin_nearest(stream_geo_df, roads_df_local, how='inner', max_distance=20)\n",
    "\n",
    "    if not joined_data.empty:\n",
    "        # Return the index of the nearest road (scalar)\n",
    "        return int(joined_data.iloc[0]['index_right'])\n",
    "    else:\n",
    "        # Return a default value when no match is found\n",
    "        return -1\n",
    "\n",
    "join_roads = udf(join_roads, IntegerType())"
   ]
  },
  {
   "cell_type": "code",
   "execution_count": 15,
   "id": "661b84da-459d-4d56-a545-916d48589e7a",
   "metadata": {},
   "outputs": [],
   "source": [
    "def get_dist(lon, lat):\n",
    "    # Import necessary libraries inside the UDF for execution on workers\n",
    "    import geopandas as gpd\n",
    "    from shapely.geometry import Point\n",
    "    \n",
    "    # Access the broadcasted roads data\n",
    "    roads_df_local = roads_broadcast.value\n",
    "\n",
    "    location = Point(lon, lat)\n",
    "    stream_geo_df = gpd.GeoDataFrame(geometry=[location], crs=\"EPSG:4326\")\n",
    "\n",
    "    # Perform the nearest-neighbor spatial join\n",
    "    joined_data = gpd.sjoin_nearest(stream_geo_df, roads_df_local, how='inner', max_distance=20)\n",
    "\n",
    "    if not joined_data.empty:\n",
    "        # Return the index of the nearest road (scalar)\n",
    "        return joined_data.iloc[0]['ADM2_EN']\n",
    "    else:\n",
    "        # Return a default value when no match is found\n",
    "        return \"Unkown\"\n",
    "\n",
    "get_dist = udf(get_dist, StringType())"
   ]
  },
  {
   "cell_type": "code",
   "execution_count": 16,
   "id": "b153dc37-1efb-4862-9ec0-3f25eddb1950",
   "metadata": {},
   "outputs": [],
   "source": [
    "df_with_roads = df_valid_coords\\\n",
    "    .withColumn(\"road_index\", join_roads(col(\"lon\"), col(\"lat\")))\\\n",
    "    .withColumn(\"dist\", get_dist(col(\"lon\"), col(\"lat\")))"
   ]
  },
  {
   "cell_type": "code",
   "execution_count": null,
   "id": "ed5a4c87-b4f8-4ab4-b7d6-0f9cfd0c0f2e",
   "metadata": {},
   "outputs": [],
   "source": [
    "# To insert the stream into cassandra database\n",
    "df_with_roads.writeStream\\\n",
    "    .outputMode(\"append\")\\\n",
    "    .format(\"org.apache.spark.sql.cassandra\")\\\n",
    "    .options(table=\"crack\", keyspace=\"pavementeye\")\\\n",
    "    .option('checkpointLocation', '/tmp/checkpoint40')\\\n",
    "    .start()\\\n",
    "    .awaitTermination()"
   ]
  },
  {
   "cell_type": "code",
   "execution_count": null,
   "id": "8c3b37ba-3d87-45e1-a563-3ba247df8337",
   "metadata": {},
   "outputs": [],
   "source": [
    "# This is for testing (printing in the notebook)\n",
    "df_with_roads.writeStream\\\n",
    "    .outputMode(\"append\")\\\n",
    "    .foreachBatch(lambda batch_df, batch_id: batch_df.show(truncate=False))\\\n",
    "    .start()\\\n",
    "    .awaitTermination()\n",
    "\n",
    "# See value at the docker logs\n",
    "# When request is made you can see the value"
   ]
  },
  {
   "cell_type": "code",
   "execution_count": null,
   "id": "ff3a4dee-76c5-4e53-a601-df611fe5e05b",
   "metadata": {},
   "outputs": [],
   "source": []
  }
 ],
 "metadata": {
  "kernelspec": {
   "display_name": "Python 3 (ipykernel)",
   "language": "python",
   "name": "python3"
  },
  "language_info": {
   "codemirror_mode": {
    "name": "ipython",
    "version": 3
   },
   "file_extension": ".py",
   "mimetype": "text/x-python",
   "name": "python",
   "nbconvert_exporter": "python",
   "pygments_lexer": "ipython3",
   "version": "3.11.6"
  }
 },
 "nbformat": 4,
 "nbformat_minor": 5
}
