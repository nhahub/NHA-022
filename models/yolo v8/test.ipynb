{
 "cells": [
  {
   "cell_type": "code",
   "execution_count": 9,
   "id": "b131bf80",
   "metadata": {},
   "outputs": [],
   "source": [
    "from ultralytics import YOLO\n",
    "\n",
    "# Load the model\n",
    "model = YOLO(\"YOLOv8_Small_RDD.pt\")"
   ]
  },
  {
   "cell_type": "code",
   "execution_count": 10,
   "id": "9e2fdc5d",
   "metadata": {},
   "outputs": [
    {
     "name": "stdout",
     "output_type": "stream",
     "text": [
      "\n",
      "image 1/1 D:\\Courses\\DEPI\\PavementEye\\data\\backup\\Screenshot 2025-09-30 082433.png: 512x640 2 Potholess, 146.8ms\n",
      "Speed: 3.7ms preprocess, 146.8ms inference, 1.4ms postprocess per image at shape (1, 3, 512, 640)\n",
      "Results saved to \u001b[1mD:\\Courses\\DEPI\\PavementEye\\models\\yolo v8\\runs\\detect\\predict5\u001b[0m\n"
     ]
    }
   ],
   "source": [
    "# Test on a single image\n",
    "results = model.predict(\n",
    "    source=r\"D:\\Courses\\DEPI\\PavementEye\\data\\backup\\Screenshot 2025-09-30 082433.png\",  # path to your test image\n",
    "    conf=0.25,               # confidence threshold\n",
    "    save=True,               # save results\n",
    "    show=True,               # display results\n",
    "    show_labels=True,        # show labels\n",
    "    show_conf=True           # show confidence scores\n",
    ")\n",
    "\n",
    "# Display results\n",
    "for r in results:\n",
    "    r.show()"
   ]
  }
 ],
 "metadata": {
  "kernelspec": {
   "display_name": "Python 3",
   "language": "python",
   "name": "python3"
  },
  "language_info": {
   "codemirror_mode": {
    "name": "ipython",
    "version": 3
   },
   "file_extension": ".py",
   "mimetype": "text/x-python",
   "name": "python",
   "nbconvert_exporter": "python",
   "pygments_lexer": "ipython3",
   "version": "3.11.7"
  }
 },
 "nbformat": 4,
 "nbformat_minor": 5
}
