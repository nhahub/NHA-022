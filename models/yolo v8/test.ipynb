{
 "cells": [
  {
   "cell_type": "code",
   "execution_count": 1,
   "id": "b131bf80",
   "metadata": {},
   "outputs": [],
   "source": [
    "from ultralytics import YOLO\n",
    "\n",
    "# Load the model\n",
    "model = YOLO(\"YOLOv8_Small_RDD.pt\")"
   ]
  },
  {
   "cell_type": "code",
   "execution_count": 11,
   "id": "9e2fdc5d",
   "metadata": {},
   "outputs": [
    {
     "name": "stdout",
     "output_type": "stream",
     "text": [
      "\n",
      "image 1/1 d:\\Courses\\DEPI\\PavementEye\\models\\yolo v8\\..\\..\\data\\DataTest\\1.jpg: 416x640 1 Longitudinal Crack, 1 Transverse Crack, 3 Alligator Cracks, 113.7ms\n",
      "Speed: 2.1ms preprocess, 113.7ms inference, 2.5ms postprocess per image at shape (1, 3, 416, 640)\n",
      "Results saved to \u001b[1mD:\\Courses\\DEPI\\PavementEye\\models\\yolo v8\\runs\\detect\\predict3\u001b[0m\n"
     ]
    }
   ],
   "source": [
    "# Run inference on a folder\n",
    "results = model.predict(source=\"../../data/DataTest/1.jpg\", save=True, conf=0.25)"
   ]
  },
  {
   "cell_type": "code",
   "execution_count": 12,
   "id": "4586570e",
   "metadata": {},
   "outputs": [
    {
     "name": "stdout",
     "output_type": "stream",
     "text": [
      "Class: Alligator Crack, Confidence: 0.70, BBox: [    0.19612      228.85      299.19      616.74]\n",
      "Class: Alligator Crack, Confidence: 0.54, BBox: [     820.28      74.564        1024      638.45]\n",
      "Class: Transverse Crack, Confidence: 0.49, BBox: [     595.37       445.4      785.33      485.88]\n",
      "Class: Alligator Crack, Confidence: 0.32, BBox: [     872.18      448.33      1023.7      639.89]\n",
      "Class: Longitudinal Crack, Confidence: 0.27, BBox: [     678.75      98.306      701.08      157.95]\n"
     ]
    }
   ],
   "source": [
    "# Iterate through results\n",
    "for result in results:\n",
    "    boxes = result.boxes  # Boxes object\n",
    "\n",
    "    # Convert to CPU and numpy for easier access\n",
    "    for box in boxes:\n",
    "        cls_id = int(box.cls.cpu().numpy()[0])        # Class ID\n",
    "        conf = float(box.conf.cpu().numpy()[0])        # Confidence\n",
    "        xyxy = box.xyxy.cpu().numpy()[0]               # Bounding box (x1, y1, x2, y2)\n",
    "\n",
    "        # Get class name from model.names dictionary\n",
    "        class_name = model.names[cls_id]\n",
    "        print(f\"Class: {class_name}, Confidence: {conf:.2f}, BBox: {xyxy}\")"
   ]
  },
  {
   "cell_type": "code",
   "execution_count": 13,
   "id": "484a4109",
   "metadata": {},
   "outputs": [],
   "source": [
    "results[0].show()"
   ]
  }
 ],
 "metadata": {
  "kernelspec": {
   "display_name": "Python 3",
   "language": "python",
   "name": "python3"
  },
  "language_info": {
   "codemirror_mode": {
    "name": "ipython",
    "version": 3
   },
   "file_extension": ".py",
   "mimetype": "text/x-python",
   "name": "python",
   "nbconvert_exporter": "python",
   "pygments_lexer": "ipython3",
   "version": "3.11.7"
  }
 },
 "nbformat": 4,
 "nbformat_minor": 5
}
