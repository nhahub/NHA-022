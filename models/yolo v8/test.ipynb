{
 "cells": [
  {
   "cell_type": "code",
   "execution_count": 1,
   "id": "b131bf80",
   "metadata": {},
   "outputs": [],
   "source": [
    "from ultralytics import YOLO\n",
    "\n",
    "# Load the model\n",
    "model = YOLO(\"YOLOv8_Small_RDD.pt\")"
   ]
  },
  {
   "cell_type": "code",
   "execution_count": 2,
   "id": "9e2fdc5d",
   "metadata": {},
   "outputs": [
    {
     "name": "stdout",
     "output_type": "stream",
     "text": [
      "\n",
      "image 1/1 d:\\Courses\\DEPI\\PavementEye\\models\\yolo v8\\..\\..\\data\\caseStudy\\WhatsApp Image 2025-09-28 at 19.18.15_dcdc4884.jpg: 480x640 1 Potholes, 195.3ms\n",
      "Speed: 7.4ms preprocess, 195.3ms inference, 17.0ms postprocess per image at shape (1, 3, 480, 640)\n",
      "Results saved to \u001b[1mD:\\Courses\\DEPI\\PavementEye\\models\\yolo v8\\runs\\detect\\predict7\u001b[0m\n"
     ]
    }
   ],
   "source": [
    "# Run inference on a folder\n",
    "results = model.predict(source=\"../../data/caseStudy/WhatsApp Image 2025-09-28 at 19.18.15_dcdc4884.jpg\", save=True, conf=0.25)"
   ]
  },
  {
   "cell_type": "code",
   "execution_count": 3,
   "id": "4586570e",
   "metadata": {},
   "outputs": [
    {
     "name": "stdout",
     "output_type": "stream",
     "text": [
      "Class: Potholes, Confidence: 0.29, BBox: [     858.31      441.98        1099      524.36]\n"
     ]
    }
   ],
   "source": [
    "# Iterate through results\n",
    "for result in results:\n",
    "    boxes = result.boxes  # Boxes object\n",
    "\n",
    "    # Convert to CPU and numpy for easier access\n",
    "    for box in boxes:\n",
    "        cls_id = int(box.cls.cpu().numpy()[0])        # Class ID\n",
    "        conf = float(box.conf.cpu().numpy()[0])        # Confidence\n",
    "        xyxy = box.xyxy.cpu().numpy()[0]               # Bounding box (x1, y1, x2, y2)\n",
    "\n",
    "        # Get class name from model.names dictionary\n",
    "        class_name = model.names[cls_id]\n",
    "        print(f\"Class: {class_name}, Confidence: {conf:.2f}, BBox: {xyxy}\")"
   ]
  },
  {
   "cell_type": "code",
   "execution_count": 4,
   "id": "484a4109",
   "metadata": {},
   "outputs": [],
   "source": [
    "results[0].show()"
   ]
  }
 ],
 "metadata": {
  "kernelspec": {
   "display_name": "Python 3",
   "language": "python",
   "name": "python3"
  },
  "language_info": {
   "codemirror_mode": {
    "name": "ipython",
    "version": 3
   },
   "file_extension": ".py",
   "mimetype": "text/x-python",
   "name": "python",
   "nbconvert_exporter": "python",
   "pygments_lexer": "ipython3",
   "version": "3.11.7"
  }
 },
 "nbformat": 4,
 "nbformat_minor": 5
}
