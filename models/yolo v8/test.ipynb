{
 "cells": [
  {
   "cell_type": "code",
   "execution_count": 1,
   "id": "b131bf80",
   "metadata": {},
   "outputs": [],
   "source": [
    "from ultralytics import YOLO\n",
    "\n",
    "# Load the model\n",
    "model = YOLO(\"YOLOv8_Small_RDD.pt\")"
   ]
  },
  {
   "cell_type": "code",
   "execution_count": 12,
   "id": "9e2fdc5d",
   "metadata": {},
   "outputs": [
    {
     "name": "stdout",
     "output_type": "stream",
     "text": [
      "\n",
      "image 1/1 d:\\Courses\\DEPI\\PavementEye\\models\\yolo v8\\..\\..\\data\\DataTest\\6.png: 640x640 1 Alligator Crack, 208.0ms\n",
      "Speed: 4.5ms preprocess, 208.0ms inference, 1.0ms postprocess per image at shape (1, 3, 640, 640)\n",
      "Results saved to \u001b[1mD:\\Courses\\DEPI\\PavementEye\\models\\yolo v8\\runs\\detect\\predict2\u001b[0m\n"
     ]
    }
   ],
   "source": [
    "# Run inference on a folder\n",
    "results = model.predict(source=\"../../data/DataTest/6.png\", save=True, conf=0.25)"
   ]
  },
  {
   "cell_type": "code",
   "execution_count": 13,
   "id": "484a4109",
   "metadata": {},
   "outputs": [],
   "source": [
    "results[0].show()"
   ]
  }
 ],
 "metadata": {
  "kernelspec": {
   "display_name": "Python 3",
   "language": "python",
   "name": "python3"
  },
  "language_info": {
   "codemirror_mode": {
    "name": "ipython",
    "version": 3
   },
   "file_extension": ".py",
   "mimetype": "text/x-python",
   "name": "python",
   "nbconvert_exporter": "python",
   "pygments_lexer": "ipython3",
   "version": "3.11.7"
  }
 },
 "nbformat": 4,
 "nbformat_minor": 5
}
